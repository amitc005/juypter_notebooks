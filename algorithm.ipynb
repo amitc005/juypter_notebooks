{
  "nbformat": 4,
  "nbformat_minor": 0,
  "metadata": {
    "kernelspec": {
      "display_name": "Python 3",
      "language": "python",
      "name": "python3"
    },
    "colab": {
      "name": "algorithm.ipynb",
      "provenance": [],
      "include_colab_link": true
    }
  },
  "cells": [
    {
      "cell_type": "markdown",
      "metadata": {
        "id": "view-in-github",
        "colab_type": "text"
      },
      "source": [
        "<a href=\"https://colab.research.google.com/github/redhoodpari/juypter_notebooks/blob/master/algorithm.ipynb\" target=\"_parent\"><img src=\"https://colab.research.google.com/assets/colab-badge.svg\" alt=\"Open In Colab\"/></a>"
      ]
    },
    {
      "cell_type": "code",
      "metadata": {
        "id": "-rjlm-eUVQfH",
        "colab_type": "code",
        "colab": {}
      },
      "source": [
        "def traverse_array(item_list):\n",
        "    for index in range(0, len(item_list)):\n",
        "        print(item_list[index])\n",
        "\n",
        "\n",
        "traverse_array([1,2,3,4])"
      ],
      "execution_count": 0,
      "outputs": []
    },
    {
      "cell_type": "code",
      "metadata": {
        "id": "EvnrT5bnVQfN",
        "colab_type": "code",
        "colab": {}
      },
      "source": [
        "def sort_item(item_list):\n",
        "    for index in range(0, len(item_list)):\n",
        "        for pointer in range(index + 1, len(item_list)):\n",
        "            if item_list[index] < item_list[pointer]:\n",
        "                temp = item_list[index]\n",
        "                item_list[index] = item_list[pointer]\n",
        "                item_list[pointer] = temp\n",
        "    \n",
        "    return item_list\n",
        "\n",
        "sort_item([1,2,3,4])"
      ],
      "execution_count": 0,
      "outputs": []
    },
    {
      "cell_type": "code",
      "metadata": {
        "id": "hoz_jFSpVQfS",
        "colab_type": "code",
        "colab": {}
      },
      "source": [
        "def sort_item(item_list):\n",
        "    for index in range(0, len(item_list)):\n",
        "        for pointer in range(index + 1, len(item_list)):\n",
        "            if item_list[index] < item_list[pointer]:\n",
        "                item_list[index] = item_list[index] + item_list[pointer]\n",
        "                item_list[pointer] = item_list[index] - item_list[pointer]\n",
        "                item_list[index] =  item_list[index] - item_list[pointer]\n",
        "    return item_list\n",
        "\n",
        "sort_item([1,2,3,4])"
      ],
      "execution_count": 0,
      "outputs": []
    },
    {
      "cell_type": "markdown",
      "metadata": {
        "id": "cPdBbK3rVQfX",
        "colab_type": "text"
      },
      "source": [
        ""
      ]
    },
    {
      "cell_type": "code",
      "metadata": {
        "id": "rTKQRIW9VQfY",
        "colab_type": "code",
        "colab": {}
      },
      "source": [
        "def smaller_num_count(item_list):\n",
        "    result = []\n",
        "    for index in range(0, len(item_list)):\n",
        "        count = 0\n",
        "        for pointer in range(0, len(item_list)):\n",
        "            if item_list[index] != item_list[pointer] and item_list[index] > item_list[pointer]:\n",
        "                count += 1 \n",
        "        result.append(count)        \n",
        "    return result\n",
        "\n",
        "smaller_num_count([8,1,2,2,3])"
      ],
      "execution_count": 0,
      "outputs": []
    },
    {
      "cell_type": "code",
      "metadata": {
        "id": "OiZqTNcMVQfd",
        "colab_type": "code",
        "colab": {}
      },
      "source": [
        "def smaller_num_count(item_list):\n",
        "    result = []\n",
        "    for index, value in enumerate (item_list):\n",
        "        count = 0\n",
        "        for pointer, value2 in enumerate(item_list):\n",
        "             if value != value2 and value > value2:\n",
        "                count += 1 \n",
        "        result.append(count)  \n",
        "    return result\n",
        "\n",
        "smaller_num_count([8,1,2,2,3])"
      ],
      "execution_count": 0,
      "outputs": []
    },
    {
      "cell_type": "code",
      "metadata": {
        "id": "dQmyfg3_VQfi",
        "colab_type": "code",
        "colab": {}
      },
      "source": [
        " def smallerNumbersThanCurrent(nums):\n",
        "        result = []\n",
        "        for index, value in enumerate(nums):\n",
        "            result.append(0)\n",
        "            for value2 in nums:\n",
        "                 if value != value2 and value > value2:\n",
        "                    result[index] +=1\n",
        "        return result\n",
        "    \n",
        "smallerNumbersThanCurrent([8,1,2,2,3])"
      ],
      "execution_count": 0,
      "outputs": []
    },
    {
      "cell_type": "code",
      "metadata": {
        "id": "UMLI_g4bVQfm",
        "colab_type": "code",
        "colab": {}
      },
      "source": [
        "def smaller_num_after_self(item_list):\n",
        "    result = []\n",
        "    for index, value in enumerate (item_list):\n",
        "        result.append(0)\n",
        "        for pointer in range(index, len(item_list)):\n",
        "             if value != item_list[pointer] and value > item_list[pointer]:\n",
        "                result[index] +=1 \n",
        "    \n",
        "    return result\n",
        "\n",
        "smaller_num_after_self([5,2,6,1])"
      ],
      "execution_count": 0,
      "outputs": []
    },
    {
      "cell_type": "code",
      "metadata": {
        "id": "ri-E2_wOVQfs",
        "colab_type": "code",
        "colab": {}
      },
      "source": [
        "def checkIfExist(arr):\n",
        "    s = set()\n",
        "    for num in arr:\n",
        "        if 2 * num in s: return True\n",
        "        if num % 2 == 0 and num // 2 in s: return True\n",
        "        s.add(num)\n",
        "    return False\n",
        "\n",
        "checkIfExist([1,1,4,5,6,7,8,2])"
      ],
      "execution_count": 0,
      "outputs": []
    },
    {
      "cell_type": "code",
      "metadata": {
        "id": "5X18n0GdVQfw",
        "colab_type": "code",
        "colab": {}
      },
      "source": [
        "def check_mountain_array(item_list):\n",
        "    if len(item_list) < 3:\n",
        "        return False \n",
        "    \n",
        "    peak = -1 \n",
        "    for index, value in enumerate(item_list):\n",
        "        if index == 0:\n",
        "            continue\n",
        "        if index == len(item_list) - 1 and peak == 0:\n",
        "            print(\"Last Item\")\n",
        "            print(f'previous ---> ${item_list[index - 1]}')\n",
        "            print(f'Current ---> ${value}')\n",
        "            print()\n",
        "            continue\n",
        "        if item_list[index - 1] < value > item_list[index + 1] and peak == -1 :\n",
        "            print(f'Peak Value ---> ${value}')\n",
        "            print()\n",
        "            peak = 0\n",
        "            continue\n",
        "        elif item_list[index - 1] < value < item_list[index + 1] and peak == -1:\n",
        "            print(f'previous ---> ${item_list[index - 1]}')\n",
        "            print(f'Current ---> ${value}')\n",
        "            print(f'Next ---> ${item_list[index + 1]}')\n",
        "            print()\n",
        "            continue\n",
        "        elif item_list[index - 1] > value > item_list[index + 1] and peak == 0:\n",
        "            print(f'previous ---> ${item_list[index - 1]}')\n",
        "            print(f'Current ---> ${value}')\n",
        "            print(f'Next ---> ${item_list[index + 1]}')\n",
        "            print()\n",
        "            continue\n",
        "        else:\n",
        "            print(f'previous ---> ${item_list[index - 1]}')\n",
        "            print(f'Current ---> ${value}')\n",
        "            print(f'Next ---> ${item_list[index + 1]}')\n",
        "            print()\n",
        "            return False\n",
        "    return True\n",
        "\n",
        "check_mountain_array([0,3,2,1])        "
      ],
      "execution_count": 0,
      "outputs": []
    },
    {
      "cell_type": "code",
      "metadata": {
        "id": "orOOhtEhVQf0",
        "colab_type": "code",
        "colab": {}
      },
      "source": [
        "def min_increment_for_unique(nums):\n",
        "    moves = 0\n",
        "    col = set()\n",
        "    for index, value in enumerate(nums):\n",
        "        while value in col:\n",
        "            value +=1\n",
        "            moves +=1\n",
        "        nums[index] = value\n",
        "        col.add(value)\n",
        "    return moves, nums\n",
        "min_increment_for_unique([3,2,1,2,1,7,4,5,7,8,9,4,222,3,46,67,8,98])        "
      ],
      "execution_count": 0,
      "outputs": []
    },
    {
      "cell_type": "code",
      "metadata": {
        "id": "smwbXEteVQf8",
        "colab_type": "code",
        "colab": {}
      },
      "source": [
        "def check_height(nums):\n",
        "    moves = 0\n",
        "    changed_postion = {}\n",
        "    for index, value in enumerate(nums):\n",
        "        while index < len(nums):\n",
        "            \n",
        "\n",
        "print({1: 1})"
      ],
      "execution_count": 0,
      "outputs": []
    },
    {
      "cell_type": "code",
      "metadata": {
        "id": "xV636alFVQgB",
        "colab_type": "code",
        "colab": {}
      },
      "source": [
        "def longest_substring(message):\n",
        "    sub_list = \"\"\n",
        "    start = 0\n",
        "    end = 0\n",
        "    longest_string = 0\n",
        "    for index, char in enumerate(message):\n",
        "        if sub_list == \"\":\n",
        "            start = index\n",
        "            end = index\n",
        "            \n",
        "        if (sub_list + char) in message[start:]:\n",
        "            sub_list += char\n",
        "        elif sub_list != \"\":\n",
        "            longest_string = len(sub_list)\n",
        "    return len(sub_list), sub_list\n",
        "\n",
        "\n",
        "longest_substring('abcabcbb')\n"
      ],
      "execution_count": 0,
      "outputs": []
    },
    {
      "cell_type": "code",
      "metadata": {
        "id": "tfwjd4hcVQgF",
        "colab_type": "code",
        "colab": {}
      },
      "source": [
        "a = 'asadsdasd'\n",
        "# a[1:]\n",
        "a[:2]"
      ],
      "execution_count": 0,
      "outputs": []
    },
    {
      "cell_type": "code",
      "metadata": {
        "id": "2SfNxpMPVQgJ",
        "colab_type": "code",
        "colab": {}
      },
      "source": [
        "def find_common_characters(string_list):\n",
        "    first_item = string_list.pop(0)\n",
        "    result_list = []\n",
        "    for char in first_item:\n",
        "        count = 0\n",
        "        for index in range(1, len(string_list)):\n",
        "            if not char in string_list[index]:\n",
        "                continue    \n",
        "            count += 1\n",
        "            temp = string_list[index].replace(char, \"\", 1)\n",
        "            string_list[index] = temp \n",
        "        \n",
        "        if count == len(string_list) - 1:\n",
        "            result_list.append(char)\n",
        "    \n",
        "    return result_list, string_list\n",
        "         \n",
        "        \n",
        "    \n",
        "find_common_characters([\"cool\",\"lock\",\"cook\"])"
      ],
      "execution_count": 0,
      "outputs": []
    },
    {
      "cell_type": "code",
      "metadata": {
        "id": "wQFKUUr8VQgN",
        "colab_type": "code",
        "colab": {}
      },
      "source": [
        ""
      ],
      "execution_count": 0,
      "outputs": []
    },
    {
      "cell_type": "code",
      "metadata": {
        "id": "gakjZjKWVQgQ",
        "colab_type": "code",
        "colab": {}
      },
      "source": [
        "def total_duration_song(items):\n",
        "    count = 0\n",
        "    for head in range(len(items)):\n",
        "        for counter in range(head + 1, len(items)):\n",
        "            if (items[head] + items[counter]) % 60 == 0:\n",
        "                count += 1\n",
        "            print(f\"{items[head]} --- > {items[counter]} {items[head] + items[counter]}\")\n",
        "    return count\n",
        "\n",
        "total_duration_song([30,20,150,100,40])"
      ],
      "execution_count": 0,
      "outputs": []
    },
    {
      "cell_type": "code",
      "metadata": {
        "id": "Ex12mXeKVQgU",
        "colab_type": "code",
        "colab": {}
      },
      "source": [
        "180 % 60 == 0"
      ],
      "execution_count": 0,
      "outputs": []
    },
    {
      "cell_type": "code",
      "metadata": {
        "id": "ke7M7vvGVQgY",
        "colab_type": "code",
        "colab": {}
      },
      "source": [
        "def three_equal_partation(items):\n",
        "    result = 0\n",
        "    for index, item in enumerate(items):\n",
        "        if index + 1 == len(items):\n",
        "            return \n",
        "        if index == 0:\n",
        "            print(f'{items[index]}   {items[index + 1]}  {items[index + 1:]}')\n",
        "        else:\n",
        "            print(f'{items[:index + 1]}   {items[index + 1]}  {items[index + 1:]}')\n",
        "\n",
        "#     found = 0\n",
        "#     for index, item in enumerate(items):\n",
        "#         if index + 1 == len(items):\n",
        "#             return found\n",
        "#         if index == 0 and items[index] == items[index + 1] == sum(items[index + 1:]) :\n",
        "#             found += 1\n",
        "#         elif sum(items[:index + 1]) == items[index + 1] == sum(items[index + 1:]):\n",
        "#             found += 1\n",
        "    \n",
        "#     return found \n",
        "\n",
        "            \n",
        "three_equal_partation([0,2,1,-6,6,-7,9,1,2,0,1])       "
      ],
      "execution_count": 0,
      "outputs": []
    },
    {
      "cell_type": "code",
      "metadata": {
        "id": "JwrZK07VVQgc",
        "colab_type": "code",
        "colab": {}
      },
      "source": [
        "sum([0,2,1,-6,6,7,9,-1,2,0,1]) / 3"
      ],
      "execution_count": 0,
      "outputs": []
    },
    {
      "cell_type": "code",
      "metadata": {
        "id": "puw5Lw-6VQgf",
        "colab_type": "code",
        "colab": {}
      },
      "source": [
        "def three_equal_partation(item_list):\n",
        "    sub_sets = []\n",
        "    current_set = [] \n",
        "    set_sum = sum(item_list) / 3\n",
        "    counter = 0\n",
        "    last_index = 0\n",
        "\n",
        "    while last_index == 0:\n",
        "        if counter == len(item_list) - 1:\n",
        "            return False, sub_sets\n",
        "        current_set.append(item_list[counter])\n",
        "        counter+= 1\n",
        "        if sum(current_set) == set_sum:\n",
        "            sub_sets.append(current_set)\n",
        "            current_set = []\n",
        "        if len(sub_sets) == 2:\n",
        "            last_index = counter\n",
        "\n",
        "    sub_sets.append(item_list[last_index:])\n",
        "\n",
        "    if sum(sub_sets[2])  == set_sum:\n",
        "        return True, sub_sets\n",
        "    else:\n",
        "        return False, sub_sets\n",
        "    \n",
        "three_equal_partation([0,2,1,-6,6,7,9,-1,2,0,1])"
      ],
      "execution_count": 0,
      "outputs": []
    },
    {
      "cell_type": "code",
      "metadata": {
        "id": "JLSkkm91VQgi",
        "colab_type": "code",
        "colab": {},
        "outputId": "09b215fd-be15-445c-d9e9-6e8954824a48"
      },
      "source": [
        "def three_equal_partation(A):\n",
        "    if sum(A) % 3 != 0:\n",
        "        return False\n",
        "\n",
        "    set_sum = sum(A) / 3\n",
        "    head = 0\n",
        "    subset_list = []\n",
        "\n",
        "    for index in range(1, len(A)):\n",
        "        if sum(A[head:index]) == set_sum: \n",
        "            subset_list.append(A[head:index])\n",
        "            head = index\n",
        "        if len(subset_list) == 2:\n",
        "            return sum(A[index:]) == set_sum, subset_list\n",
        "    return False, subset_list       \n",
        "three_equal_partation([0,2,1,-6,6,-7,9,1,2,0,1])"
      ],
      "execution_count": 0,
      "outputs": [
        {
          "output_type": "execute_result",
          "data": {
            "text/plain": [
              "(True, [[0, 2, 1], [-6, 6, -7, 9, 1]])"
            ]
          },
          "metadata": {
            "tags": []
          },
          "execution_count": 46
        }
      ]
    },
    {
      "cell_type": "code",
      "metadata": {
        "id": "VzV6ZEtQVQgm",
        "colab_type": "code",
        "colab": {},
        "outputId": "f862cf3c-ba1b-4228-b265-8d0c1851c5d7"
      },
      "source": [
        "def can_be_three_equal_partation(A):\n",
        "    print(sum(A) / 3)\n",
        "    print(21 % 3)\n",
        "    print(1 == 0)\n",
        "    if (sum(A) % 3) == 0:\n",
        "        return True\n",
        "    else:\n",
        "        return False\n",
        "    \n",
        "can_be_three_equal_partation([0,2,1,-6,6,7,9,-1,2,0,1])"
      ],
      "execution_count": 0,
      "outputs": [
        {
          "output_type": "stream",
          "text": [
            "7.0\n",
            "0\n",
            "False\n"
          ],
          "name": "stdout"
        },
        {
          "output_type": "execute_result",
          "data": {
            "text/plain": [
              "True"
            ]
          },
          "metadata": {
            "tags": []
          },
          "execution_count": 45
        }
      ]
    },
    {
      "cell_type": "code",
      "metadata": {
        "id": "dlxSDMgtVQgq",
        "colab_type": "code",
        "colab": {}
      },
      "source": [
        ""
      ],
      "execution_count": 0,
      "outputs": []
    },
    {
      "cell_type": "code",
      "metadata": {
        "id": "bAUe_-C9VQgu",
        "colab_type": "code",
        "colab": {}
      },
      "source": [
        "a = [0,2,1,-6,6,7,9,-1,2,0,1]"
      ],
      "execution_count": 0,
      "outputs": []
    },
    {
      "cell_type": "code",
      "metadata": {
        "id": "CcRkBYP_VQgx",
        "colab_type": "code",
        "colab": {},
        "outputId": "33a277ca-39a6-4b02-e7f3-f29b72e7d767"
      },
      "source": [
        "a[0:1]"
      ],
      "execution_count": 0,
      "outputs": [
        {
          "output_type": "execute_result",
          "data": {
            "text/plain": [
              "[0]"
            ]
          },
          "metadata": {
            "tags": []
          },
          "execution_count": 3
        }
      ]
    },
    {
      "cell_type": "markdown",
      "metadata": {
        "id": "MvVJ8SHHVQg2",
        "colab_type": "text"
      },
      "source": [
        "Given a non-empty array of digits representing a non-negative integer, plus one to the integer.\n",
        "\n",
        "The digits are stored such that the most significant digit is at the head of the list, and each element in the array contain a single digit.\n",
        "\n",
        "You may assume the integer does not contain any leading zero, except the number 0 itself.\n",
        "\n",
        "Example 1:\n",
        "\n",
        "Input: [1,2,3]\n",
        "Output: [1,2,4]\n",
        "Explanation: The array represents the integer 123.\n",
        "Example 2:\n",
        "\n",
        "Input: [4,3,2,1]\n",
        "Output: [4,3,2,2]\n",
        "Explanation: The array represents the integer 4321"
      ]
    },
    {
      "cell_type": "code",
      "metadata": {
        "id": "y54lw95mVQg3",
        "colab_type": "code",
        "colab": {
          "base_uri": "https://localhost:8080/",
          "height": 35
        },
        "outputId": "7bfd8c7c-409d-453d-9b55-536ec1770080"
      },
      "source": [
        "def plus_one_digit(digit_list):\n",
        "    total_length = len(digit_list)\n",
        "    ans_list = []\n",
        "    carry_over = 0\n",
        "    \n",
        "    if total_length == 1:\n",
        "        return [1,0] if digit_list[total_length - 1] + 1 == 10 else [digit_list[total_length - 1] + 1]\n",
        "    \n",
        "    elif digit_list[total_length - 1] + 1 == 10:\n",
        "        ans_list.insert(0,0)\n",
        "        carry_over = 1\n",
        "        digit_list.pop()\n",
        "        total_length -= 1\n",
        "    else:\n",
        "        digit_list[total_length - 1] += 1\n",
        "    \n",
        "    while total_length:\n",
        "        total_length -= 1\n",
        "        if digit_list[total_length] + carry_over == 10:\n",
        "            ans_list.insert(0, 0)\n",
        "            carry_over = 1\n",
        "        else:\n",
        "            ans_list.insert(0, digit_list[total_length] + carry_over)\n",
        "            carry_over = 0\n",
        "        \n",
        "        if total_length == 0 and carry_over == 1:\n",
        "            ans_list.insert(0,0)\n",
        "            \n",
        "    return ans_list\n",
        "            \n",
        "plus_one_digit([9])"
      ],
      "execution_count": 3,
      "outputs": [
        {
          "output_type": "execute_result",
          "data": {
            "text/plain": [
              "[1, 0]"
            ]
          },
          "metadata": {
            "tags": []
          },
          "execution_count": 3
        }
      ]
    },
    {
      "cell_type": "code",
      "metadata": {
        "id": "RZ8EG30pVQg6",
        "colab_type": "code",
        "colab": {}
      },
      "source": [
        ""
      ],
      "execution_count": 0,
      "outputs": []
    },
    {
      "cell_type": "code",
      "metadata": {
        "id": "SQm4ROYgVQg-",
        "colab_type": "code",
        "colab": {},
        "outputId": "bad9cbd3-6284-4ddf-b2e7-593b3d7b6535"
      },
      "source": [
        "a = []\n",
        "\n",
        "a.insert(0, 1)\n",
        "a"
      ],
      "execution_count": 0,
      "outputs": [
        {
          "output_type": "execute_result",
          "data": {
            "text/plain": [
              "[1]"
            ]
          },
          "metadata": {
            "tags": []
          },
          "execution_count": 68
        }
      ]
    },
    {
      "cell_type": "code",
      "metadata": {
        "id": "TnSBiCWkVQhC",
        "colab_type": "code",
        "colab": {}
      },
      "source": [
        ""
      ],
      "execution_count": 0,
      "outputs": []
    },
    {
      "cell_type": "code",
      "metadata": {
        "id": "lt-rk7IFVQhG",
        "colab_type": "code",
        "colab": {}
      },
      "source": [
        ""
      ],
      "execution_count": 0,
      "outputs": []
    }
  ]
}