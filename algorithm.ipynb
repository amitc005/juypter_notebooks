{
 "cells": [
  {
   "cell_type": "code",
   "execution_count": null,
   "metadata": {},
   "outputs": [],
   "source": [
    "def traverse_array(item_list):\n",
    "    for index in range(0, len(item_list)):\n",
    "        print(item_list[index])\n",
    "\n",
    "\n",
    "traverse_array([1,2,3,4])"
   ]
  },
  {
   "cell_type": "code",
   "execution_count": null,
   "metadata": {},
   "outputs": [],
   "source": [
    "def sort_item(item_list):\n",
    "    for index in range(0, len(item_list)):\n",
    "        for pointer in range(index + 1, len(item_list)):\n",
    "            if item_list[index] < item_list[pointer]:\n",
    "                temp = item_list[index]\n",
    "                item_list[index] = item_list[pointer]\n",
    "                item_list[pointer] = temp\n",
    "    \n",
    "    return item_list\n",
    "\n",
    "sort_item([1,2,3,4])"
   ]
  },
  {
   "cell_type": "code",
   "execution_count": null,
   "metadata": {},
   "outputs": [],
   "source": [
    "def sort_item(item_list):\n",
    "    for index in range(0, len(item_list)):\n",
    "        for pointer in range(index + 1, len(item_list)):\n",
    "            if item_list[index] < item_list[pointer]:\n",
    "                item_list[index] = item_list[index] + item_list[pointer]\n",
    "                item_list[pointer] = item_list[index] - item_list[pointer]\n",
    "                item_list[index] =  item_list[index] - item_list[pointer]\n",
    "    return item_list\n",
    "\n",
    "sort_item([1,2,3,4])"
   ]
  },
  {
   "cell_type": "markdown",
   "metadata": {},
   "source": []
  },
  {
   "cell_type": "code",
   "execution_count": null,
   "metadata": {},
   "outputs": [],
   "source": [
    "def smaller_num_count(item_list):\n",
    "    result = []\n",
    "    for index in range(0, len(item_list)):\n",
    "        count = 0\n",
    "        for pointer in range(0, len(item_list)):\n",
    "            if item_list[index] != item_list[pointer] and item_list[index] > item_list[pointer]:\n",
    "                count += 1 \n",
    "        result.append(count)        \n",
    "    return result\n",
    "\n",
    "smaller_num_count([8,1,2,2,3])"
   ]
  },
  {
   "cell_type": "code",
   "execution_count": null,
   "metadata": {},
   "outputs": [],
   "source": [
    "def smaller_num_count(item_list):\n",
    "    result = []\n",
    "    for index, value in enumerate (item_list):\n",
    "        count = 0\n",
    "        for pointer, value2 in enumerate(item_list):\n",
    "             if value != value2 and value > value2:\n",
    "                count += 1 \n",
    "        result.append(count)  \n",
    "    return result\n",
    "\n",
    "smaller_num_count([8,1,2,2,3])"
   ]
  },
  {
   "cell_type": "code",
   "execution_count": null,
   "metadata": {},
   "outputs": [],
   "source": [
    " def smallerNumbersThanCurrent(nums):\n",
    "        result = []\n",
    "        for index, value in enumerate(nums):\n",
    "            result.append(0)\n",
    "            for value2 in nums:\n",
    "                 if value != value2 and value > value2:\n",
    "                    result[index] +=1\n",
    "        return result\n",
    "    \n",
    "smallerNumbersThanCurrent([8,1,2,2,3])"
   ]
  },
  {
   "cell_type": "code",
   "execution_count": null,
   "metadata": {},
   "outputs": [],
   "source": [
    "def smaller_num_after_self(item_list):\n",
    "    result = []\n",
    "    for index, value in enumerate (item_list):\n",
    "        result.append(0)\n",
    "        for pointer in range(index, len(item_list)):\n",
    "             if value != item_list[pointer] and value > item_list[pointer]:\n",
    "                result[index] +=1 \n",
    "    \n",
    "    return result\n",
    "\n",
    "smaller_num_after_self([5,2,6,1])"
   ]
  },
  {
   "cell_type": "code",
   "execution_count": null,
   "metadata": {},
   "outputs": [],
   "source": [
    "def checkIfExist(arr):\n",
    "    s = set()\n",
    "    for num in arr:\n",
    "        if 2 * num in s: return True\n",
    "        if num % 2 == 0 and num // 2 in s: return True\n",
    "        s.add(num)\n",
    "    return False\n",
    "\n",
    "checkIfExist([1,1,4,5,6,7,8,2])"
   ]
  },
  {
   "cell_type": "code",
   "execution_count": null,
   "metadata": {},
   "outputs": [],
   "source": [
    "def check_mountain_array(item_list):\n",
    "    if len(item_list) < 3:\n",
    "        return False \n",
    "    \n",
    "    peak = -1 \n",
    "    for index, value in enumerate(item_list):\n",
    "        if index == 0:\n",
    "            continue\n",
    "        if index == len(item_list) - 1 and peak == 0:\n",
    "            print(\"Last Item\")\n",
    "            print(f'previous ---> ${item_list[index - 1]}')\n",
    "            print(f'Current ---> ${value}')\n",
    "            print()\n",
    "            continue\n",
    "        if item_list[index - 1] < value > item_list[index + 1] and peak == -1 :\n",
    "            print(f'Peak Value ---> ${value}')\n",
    "            print()\n",
    "            peak = 0\n",
    "            continue\n",
    "        elif item_list[index - 1] < value < item_list[index + 1] and peak == -1:\n",
    "            print(f'previous ---> ${item_list[index - 1]}')\n",
    "            print(f'Current ---> ${value}')\n",
    "            print(f'Next ---> ${item_list[index + 1]}')\n",
    "            print()\n",
    "            continue\n",
    "        elif item_list[index - 1] > value > item_list[index + 1] and peak == 0:\n",
    "            print(f'previous ---> ${item_list[index - 1]}')\n",
    "            print(f'Current ---> ${value}')\n",
    "            print(f'Next ---> ${item_list[index + 1]}')\n",
    "            print()\n",
    "            continue\n",
    "        else:\n",
    "            print(f'previous ---> ${item_list[index - 1]}')\n",
    "            print(f'Current ---> ${value}')\n",
    "            print(f'Next ---> ${item_list[index + 1]}')\n",
    "            print()\n",
    "            return False\n",
    "    return True\n",
    "\n",
    "check_mountain_array([0,3,2,1])        "
   ]
  },
  {
   "cell_type": "code",
   "execution_count": null,
   "metadata": {},
   "outputs": [],
   "source": [
    "def min_increment_for_unique(nums):\n",
    "    moves = 0\n",
    "    col = set()\n",
    "    for index, value in enumerate(nums):\n",
    "        while value in col:\n",
    "            value +=1\n",
    "            moves +=1\n",
    "        nums[index] = value\n",
    "        col.add(value)\n",
    "    return moves, nums\n",
    "min_increment_for_unique([3,2,1,2,1,7,4,5,7,8,9,4,222,3,46,67,8,98])        "
   ]
  },
  {
   "cell_type": "code",
   "execution_count": null,
   "metadata": {},
   "outputs": [],
   "source": [
    "def check_height(nums):\n",
    "    moves = 0\n",
    "    changed_postion = {}\n",
    "    for index, value in enumerate(nums):\n",
    "        while index < len(nums):\n",
    "            \n",
    "\n",
    "print({1: 1})"
   ]
  },
  {
   "cell_type": "code",
   "execution_count": null,
   "metadata": {},
   "outputs": [],
   "source": [
    "def longest_substring(message):\n",
    "    sub_list = \"\"\n",
    "    start = 0\n",
    "    end = 0\n",
    "    longest_string = 0\n",
    "    for index, char in enumerate(message):\n",
    "        if sub_list == \"\":\n",
    "            start = index\n",
    "            end = index\n",
    "            \n",
    "        if (sub_list + char) in message[start:]:\n",
    "            sub_list += char\n",
    "        elif sub_list != \"\":\n",
    "            longest_string = len(sub_list)\n",
    "    return len(sub_list), sub_list\n",
    "\n",
    "\n",
    "longest_substring('abcabcbb')\n"
   ]
  },
  {
   "cell_type": "code",
   "execution_count": null,
   "metadata": {},
   "outputs": [],
   "source": [
    "a = 'asadsdasd'\n",
    "# a[1:]\n",
    "a[:2]"
   ]
  },
  {
   "cell_type": "code",
   "execution_count": null,
   "metadata": {},
   "outputs": [],
   "source": [
    "def find_common_characters(string_list):\n",
    "    first_item = string_list.pop(0)\n",
    "    result_list = []\n",
    "    for char in first_item:\n",
    "        count = 0\n",
    "        for index in range(1, len(string_list)):\n",
    "            if not char in string_list[index]:\n",
    "                continue    \n",
    "            count += 1\n",
    "            temp = string_list[index].replace(char, \"\", 1)\n",
    "            string_list[index] = temp \n",
    "        \n",
    "        if count == len(string_list) - 1:\n",
    "            result_list.append(char)\n",
    "    \n",
    "    return result_list, string_list\n",
    "         \n",
    "        \n",
    "    \n",
    "find_common_characters([\"cool\",\"lock\",\"cook\"])"
   ]
  },
  {
   "cell_type": "code",
   "execution_count": null,
   "metadata": {},
   "outputs": [],
   "source": []
  },
  {
   "cell_type": "code",
   "execution_count": null,
   "metadata": {},
   "outputs": [],
   "source": [
    "def total_duration_song(items):\n",
    "    count = 0\n",
    "    for head in range(len(items)):\n",
    "        for counter in range(head + 1, len(items)):\n",
    "            if (items[head] + items[counter]) % 60 == 0:\n",
    "                count += 1\n",
    "            print(f\"{items[head]} --- > {items[counter]} {items[head] + items[counter]}\")\n",
    "    return count\n",
    "\n",
    "total_duration_song([30,20,150,100,40])"
   ]
  },
  {
   "cell_type": "code",
   "execution_count": null,
   "metadata": {},
   "outputs": [],
   "source": [
    "180 % 60 == 0"
   ]
  },
  {
   "cell_type": "code",
   "execution_count": null,
   "metadata": {},
   "outputs": [],
   "source": [
    "def three_equal_partation(items):\n",
    "    result = 0\n",
    "    for index, item in enumerate(items):\n",
    "        if index + 1 == len(items):\n",
    "            return \n",
    "        if index == 0:\n",
    "            print(f'{items[index]}   {items[index + 1]}  {items[index + 1:]}')\n",
    "        else:\n",
    "            print(f'{items[:index + 1]}   {items[index + 1]}  {items[index + 1:]}')\n",
    "\n",
    "#     found = 0\n",
    "#     for index, item in enumerate(items):\n",
    "#         if index + 1 == len(items):\n",
    "#             return found\n",
    "#         if index == 0 and items[index] == items[index + 1] == sum(items[index + 1:]) :\n",
    "#             found += 1\n",
    "#         elif sum(items[:index + 1]) == items[index + 1] == sum(items[index + 1:]):\n",
    "#             found += 1\n",
    "    \n",
    "#     return found \n",
    "\n",
    "            \n",
    "three_equal_partation([0,2,1,-6,6,-7,9,1,2,0,1])       "
   ]
  },
  {
   "cell_type": "code",
   "execution_count": null,
   "metadata": {},
   "outputs": [],
   "source": [
    "sum([0,2,1,-6,6,7,9,-1,2,0,1]) / 3"
   ]
  },
  {
   "cell_type": "code",
   "execution_count": null,
   "metadata": {},
   "outputs": [],
   "source": [
    "def three_equal_partation(item_list):\n",
    "    sub_sets = []\n",
    "    current_set = [] \n",
    "    set_sum = sum(item_list) / 3\n",
    "    counter = 0\n",
    "    last_index = 0\n",
    "\n",
    "    while last_index == 0:\n",
    "        if counter == len(item_list) - 1:\n",
    "            return False, sub_sets\n",
    "        current_set.append(item_list[counter])\n",
    "        counter+= 1\n",
    "        if sum(current_set) == set_sum:\n",
    "            sub_sets.append(current_set)\n",
    "            current_set = []\n",
    "        if len(sub_sets) == 2:\n",
    "            last_index = counter\n",
    "\n",
    "    sub_sets.append(item_list[last_index:])\n",
    "\n",
    "    if sum(sub_sets[2])  == set_sum:\n",
    "        return True, sub_sets\n",
    "    else:\n",
    "        return False, sub_sets\n",
    "    \n",
    "three_equal_partation([0,2,1,-6,6,7,9,-1,2,0,1])"
   ]
  },
  {
   "cell_type": "code",
   "execution_count": 46,
   "metadata": {},
   "outputs": [
    {
     "data": {
      "text/plain": [
       "(True, [[0, 2, 1], [-6, 6, -7, 9, 1]])"
      ]
     },
     "execution_count": 46,
     "metadata": {},
     "output_type": "execute_result"
    }
   ],
   "source": [
    "def three_equal_partation(A):\n",
    "    if sum(A) % 3 != 0:\n",
    "        return False\n",
    "\n",
    "    set_sum = sum(A) / 3\n",
    "    head = 0\n",
    "    subset_list = []\n",
    "\n",
    "    for index in range(1, len(A)):\n",
    "        if sum(A[head:index]) == set_sum: \n",
    "            subset_list.append(A[head:index])\n",
    "            head = index\n",
    "        if len(subset_list) == 2:\n",
    "            return sum(A[index:]) == set_sum, subset_list\n",
    "    return False, subset_list       \n",
    "three_equal_partation([0,2,1,-6,6,-7,9,1,2,0,1])"
   ]
  },
  {
   "cell_type": "code",
   "execution_count": 45,
   "metadata": {},
   "outputs": [
    {
     "name": "stdout",
     "output_type": "stream",
     "text": [
      "7.0\n",
      "0\n",
      "False\n"
     ]
    },
    {
     "data": {
      "text/plain": [
       "True"
      ]
     },
     "execution_count": 45,
     "metadata": {},
     "output_type": "execute_result"
    }
   ],
   "source": [
    "def can_be_three_equal_partation(A):\n",
    "    print(sum(A) / 3)\n",
    "    print(21 % 3)\n",
    "    print(1 == 0)\n",
    "    if (sum(A) % 3) == 0:\n",
    "        return True\n",
    "    else:\n",
    "        return False\n",
    "    \n",
    "can_be_three_equal_partation([0,2,1,-6,6,7,9,-1,2,0,1])"
   ]
  },
  {
   "cell_type": "code",
   "execution_count": null,
   "metadata": {},
   "outputs": [],
   "source": []
  },
  {
   "cell_type": "code",
   "execution_count": 2,
   "metadata": {},
   "outputs": [],
   "source": [
    "a = [0,2,1,-6,6,7,9,-1,2,0,1]"
   ]
  },
  {
   "cell_type": "code",
   "execution_count": 3,
   "metadata": {},
   "outputs": [
    {
     "data": {
      "text/plain": [
       "[0]"
      ]
     },
     "execution_count": 3,
     "metadata": {},
     "output_type": "execute_result"
    }
   ],
   "source": [
    "a[0:1]"
   ]
  },
  {
   "cell_type": "markdown",
   "metadata": {},
   "source": [
    "Given a non-empty array of digits representing a non-negative integer, plus one to the integer.\n",
    "\n",
    "The digits are stored such that the most significant digit is at the head of the list, and each element in the array contain a single digit.\n",
    "\n",
    "You may assume the integer does not contain any leading zero, except the number 0 itself.\n",
    "\n",
    "Example 1:\n",
    "\n",
    "Input: [1,2,3]\n",
    "Output: [1,2,4]\n",
    "Explanation: The array represents the integer 123.\n",
    "Example 2:\n",
    "\n",
    "Input: [4,3,2,1]\n",
    "Output: [4,3,2,2]\n",
    "Explanation: The array represents the integer 4321"
   ]
  },
  {
   "cell_type": "code",
   "execution_count": 107,
   "metadata": {},
   "outputs": [
    {
     "data": {
      "text/plain": [
       "[1, 0]"
      ]
     },
     "execution_count": 107,
     "metadata": {},
     "output_type": "execute_result"
    }
   ],
   "source": [
    "def plus_one_digit(digit_list):\n",
    "    total_length = len(digit_list)\n",
    "    ans_list = []\n",
    "    carry_over = 0\n",
    "    \n",
    "    if total_length == 1:\n",
    "        return [1,0] if digit_list[total_length - 1] + 1 == 10 else [digit_list[total_length - 1] + 1]\n",
    "    \n",
    "    elif digit_list[total_length - 1] + 1 == 10:\n",
    "        ans_list.insert(0,0)\n",
    "        carry_over = 1\n",
    "        digit_list.pop()\n",
    "        total_length -= 1\n",
    "    else:\n",
    "        digit_list[total_length - 1] += 1\n",
    "    \n",
    "    while total_length:\n",
    "        total_length -= 1\n",
    "        if digit_list[total_length] + carry_over == 10:\n",
    "            ans_list.insert(0, 0)\n",
    "            carry_over = 1\n",
    "        else:\n",
    "            ans_list.insert(0, digit_list[total_length] + carry_over)\n",
    "            carry_over = 0\n",
    "        if total_length == 0 and carry_over == 1:\n",
    "            ans_list.insert(0, carry_over)\n",
    "            \n",
    "    return ans_list\n",
    "            \n",
    "plus_one_digit([9])"
   ]
  },
  {
   "cell_type": "code",
   "execution_count": null,
   "metadata": {},
   "outputs": [],
   "source": []
  },
  {
   "cell_type": "code",
   "execution_count": 68,
   "metadata": {},
   "outputs": [
    {
     "data": {
      "text/plain": [
       "[1]"
      ]
     },
     "execution_count": 68,
     "metadata": {},
     "output_type": "execute_result"
    }
   ],
   "source": [
    "a = []\n",
    "\n",
    "a.insert(0, 1)\n",
    "a"
   ]
  },
  {
   "cell_type": "code",
   "execution_count": 8,
   "metadata": {
    "tags": [
     "pair_sum",
     "sorting"
    ]
   },
   "outputs": [
    {
     "data": {
      "text/plain": [
       "(4, 4)"
      ]
     },
     "execution_count": 8,
     "metadata": {},
     "output_type": "execute_result"
    }
   ],
   "source": [
    "def has_pair_with_sum(num_list, sum):\n",
    "    low = 0;\n",
    "    high = len(num_list) - 1\n",
    "    while(low < high):\n",
    "        if (num_list[low] + num_list[high] == sum):\n",
    "            return (num_list[low], num_list[high])\n",
    "        elif (num_list[low] + num_list[high] < sum):\n",
    "            low +=1\n",
    "        elif (num_list[low] + num_list[high] > sum):\n",
    "            high -=1\n",
    "    return False\n",
    "\n",
    "has_pair_with_sum([1,2,3,4], 8)\n",
    "has_pair_with_sum([1,2,4,4], 8)"
   ]
  },
  {
   "cell_type": "code",
   "execution_count": 27,
   "metadata": {},
   "outputs": [
    {
     "data": {
      "text/plain": [
       "False"
      ]
     },
     "execution_count": 27,
     "metadata": {},
     "output_type": "execute_result"
    }
   ],
   "source": [
    "def has_pair_with_sum(num_list, sum):\n",
    "    visited_ele_list = {}\n",
    "    for value in num_list:\n",
    "        if visited_ele_list.count(value):\n",
    "            return value, value+sum\n",
    "        visited_ele_list.append(sum-value)\n",
    "    return False\n",
    "\n",
    "has_pair_with_sum([4,1,3,2], 7)"
   ]
  },
  {
   "cell_type": "code",
   "execution_count": null,
   "metadata": {},
   "outputs": [],
   "source": []
  },
  {
   "cell_type": "code",
   "execution_count": 14,
   "metadata": {},
   "outputs": [
    {
     "data": {
      "text/plain": [
       "2"
      ]
     },
     "execution_count": 14,
     "metadata": {},
     "output_type": "execute_result"
    }
   ],
   "source": [
    "a = ['a', 'a', 'b']\n",
    "a.count('a')"
   ]
  },
  {
   "cell_type": "code",
   "execution_count": null,
   "metadata": {},
   "outputs": [],
   "source": []
  }
 ],
 "metadata": {
  "celltoolbar": "Tags",
  "kernelspec": {
   "display_name": "Python 3",
   "language": "python",
   "name": "python3"
  },
  "language_info": {
   "codemirror_mode": {
    "name": "ipython",
    "version": 3
   },
   "file_extension": ".py",
   "mimetype": "text/x-python",
   "name": "python",
   "nbconvert_exporter": "python",
   "pygments_lexer": "ipython3",
   "version": "3.6.5"
  }
 },
 "nbformat": 4,
 "nbformat_minor": 4
}
