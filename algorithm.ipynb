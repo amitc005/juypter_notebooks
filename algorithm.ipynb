{
 "cells": [
  {
   "cell_type": "code",
   "execution_count": null,
   "metadata": {},
   "outputs": [],
   "source": [
    "def traverse_array(item_list):\n",
    "    for index in range(0, len(item_list)):\n",
    "        print(item_list[index])\n",
    "\n",
    "\n",
    "traverse_array([1,2,3,4])"
   ]
  },
  {
   "cell_type": "code",
   "execution_count": 11,
   "metadata": {},
   "outputs": [
    {
     "data": {
      "text/plain": [
       "[4, 3, 2, 1]"
      ]
     },
     "execution_count": 11,
     "metadata": {},
     "output_type": "execute_result"
    }
   ],
   "source": [
    "def sort_item(item_list):\n",
    "    for index in range(0, len(item_list)):\n",
    "        for pointer in range(index + 1, len(item_list)):\n",
    "            if item_list[index] < item_list[pointer]:\n",
    "                temp = item_list[index]\n",
    "                item_list[index] = item_list[pointer]\n",
    "                item_list[pointer] = temp\n",
    "    \n",
    "    return item_list\n",
    "\n",
    "sort_item([1,2,3,4])"
   ]
  },
  {
   "cell_type": "code",
   "execution_count": 9,
   "metadata": {},
   "outputs": [
    {
     "data": {
      "text/plain": [
       "[4, 3, 2, 1]"
      ]
     },
     "execution_count": 9,
     "metadata": {},
     "output_type": "execute_result"
    }
   ],
   "source": [
    "def sort_item(item_list):\n",
    "    for index in range(0, len(item_list)):\n",
    "        for pointer in range(index + 1, len(item_list)):\n",
    "            if item_list[index] < item_list[pointer]:\n",
    "                item_list[index] = item_list[index] + item_list[pointer]\n",
    "                item_list[pointer] = item_list[index] - item_list[pointer]\n",
    "                item_list[index] =  item_list[index] - item_list[pointer]\n",
    "    return item_list\n",
    "\n",
    "sort_item([1,2,3,4])"
   ]
  },
  {
   "cell_type": "markdown",
   "metadata": {},
   "source": []
  },
  {
   "cell_type": "code",
   "execution_count": 22,
   "metadata": {},
   "outputs": [
    {
     "data": {
      "text/plain": [
       "[4, 0, 1, 1, 3]"
      ]
     },
     "execution_count": 22,
     "metadata": {},
     "output_type": "execute_result"
    }
   ],
   "source": [
    "def smaller_num_count(item_list):\n",
    "    result = []\n",
    "    for index in range(0, len(item_list)):\n",
    "        count = 0\n",
    "        for pointer in range(0, len(item_list)):\n",
    "            if item_list[index] != item_list[pointer] and item_list[index] > item_list[pointer]:\n",
    "                count += 1 \n",
    "        result.append(count)        \n",
    "    return result\n",
    "\n",
    "smaller_num_count([8,1,2,2,3])"
   ]
  },
  {
   "cell_type": "code",
   "execution_count": 27,
   "metadata": {},
   "outputs": [
    {
     "data": {
      "text/plain": [
       "[4, 0, 1, 1, 3]"
      ]
     },
     "execution_count": 27,
     "metadata": {},
     "output_type": "execute_result"
    }
   ],
   "source": [
    "def smaller_num_count(item_list):\n",
    "    result = []\n",
    "    for index, value in enumerate (item_list):\n",
    "        count = 0\n",
    "        for pointer, value2 in enumerate(item_list):\n",
    "             if value != value2 and value > value2:\n",
    "                count += 1 \n",
    "        result.append(count)  \n",
    "    return result\n",
    "\n",
    "smaller_num_count([8,1,2,2,3])"
   ]
  },
  {
   "cell_type": "code",
   "execution_count": 29,
   "metadata": {},
   "outputs": [
    {
     "data": {
      "text/plain": [
       "[4, 0, 1, 1, 3]"
      ]
     },
     "execution_count": 29,
     "metadata": {},
     "output_type": "execute_result"
    }
   ],
   "source": [
    " def smallerNumbersThanCurrent(nums):\n",
    "        result = []\n",
    "        for index, value in enumerate(nums):\n",
    "            result.append(0)\n",
    "            for value2 in nums:\n",
    "                 if value != value2 and value > value2:\n",
    "                    result[index] +=1\n",
    "        return result\n",
    "    \n",
    "smallerNumbersThanCurrent([8,1,2,2,3])"
   ]
  },
  {
   "cell_type": "code",
   "execution_count": 35,
   "metadata": {},
   "outputs": [
    {
     "data": {
      "text/plain": [
       "[2, 1, 1, 0]"
      ]
     },
     "execution_count": 35,
     "metadata": {},
     "output_type": "execute_result"
    }
   ],
   "source": [
    "def smaller_num_after_self(item_list):\n",
    "    result = []\n",
    "    for index, value in enumerate (item_list):\n",
    "        result.append(0)\n",
    "        for pointer in range(index, len(item_list)):\n",
    "             if value != item_list[pointer] and value > item_list[pointer]:\n",
    "                result[index] +=1 \n",
    "    \n",
    "    return result\n",
    "\n",
    "smaller_num_after_self([5,2,6,1])"
   ]
  },
  {
   "cell_type": "code",
   "execution_count": 82,
   "metadata": {},
   "outputs": [
    {
     "data": {
      "text/plain": [
       "True"
      ]
     },
     "execution_count": 82,
     "metadata": {},
     "output_type": "execute_result"
    }
   ],
   "source": [
    "def checkIfExist(arr):\n",
    "    s = set()\n",
    "    for num in arr:\n",
    "        if 2 * num in s: return True\n",
    "        if num % 2 == 0 and num // 2 in s: return True\n",
    "        s.add(num)\n",
    "    return False\n",
    "\n",
    "checkIfExist([1,1,4,5,6,7,8,2])"
   ]
  },
  {
   "cell_type": "code",
   "execution_count": 110,
   "metadata": {},
   "outputs": [
    {
     "name": "stdout",
     "output_type": "stream",
     "text": [
      "Peak Value ---> $3\n",
      "\n",
      "previous ---> $3\n",
      "Current ---> $2\n",
      "Next ---> $1\n",
      "\n",
      "Last Item\n",
      "previous ---> $2\n",
      "Current ---> $1\n",
      "\n"
     ]
    },
    {
     "data": {
      "text/plain": [
       "True"
      ]
     },
     "execution_count": 110,
     "metadata": {},
     "output_type": "execute_result"
    }
   ],
   "source": [
    "def check_mountain_array(item_list):\n",
    "    if len(item_list) < 3:\n",
    "        return False \n",
    "    \n",
    "    peak = -1 \n",
    "    for index, value in enumerate(item_list):\n",
    "        if index == 0:\n",
    "            continue\n",
    "        if index == len(item_list) - 1 and peak == 0:\n",
    "            print(\"Last Item\")\n",
    "            print(f'previous ---> ${item_list[index - 1]}')\n",
    "            print(f'Current ---> ${value}')\n",
    "            print()\n",
    "            continue\n",
    "        if item_list[index - 1] < value > item_list[index + 1] and peak == -1 :\n",
    "            print(f'Peak Value ---> ${value}')\n",
    "            print()\n",
    "            peak = 0\n",
    "            continue\n",
    "        elif item_list[index - 1] < value < item_list[index + 1] and peak == -1:\n",
    "            print(f'previous ---> ${item_list[index - 1]}')\n",
    "            print(f'Current ---> ${value}')\n",
    "            print(f'Next ---> ${item_list[index + 1]}')\n",
    "            print()\n",
    "            continue\n",
    "        elif item_list[index - 1] > value > item_list[index + 1] and peak == 0:\n",
    "            print(f'previous ---> ${item_list[index - 1]}')\n",
    "            print(f'Current ---> ${value}')\n",
    "            print(f'Next ---> ${item_list[index + 1]}')\n",
    "            print()\n",
    "            continue\n",
    "        else:\n",
    "            print(f'previous ---> ${item_list[index - 1]}')\n",
    "            print(f'Current ---> ${value}')\n",
    "            print(f'Next ---> ${item_list[index + 1]}')\n",
    "            print()\n",
    "            return False\n",
    "    return True\n",
    "\n",
    "check_mountain_array([0,3,2,1])        "
   ]
  },
  {
   "cell_type": "code",
   "execution_count": 114,
   "metadata": {},
   "outputs": [
    {
     "data": {
      "text/plain": [
       "(41, [3, 2, 1, 4, 5, 7, 6, 8, 9, 10, 11, 12, 222, 13, 46, 67, 14, 98])"
      ]
     },
     "execution_count": 114,
     "metadata": {},
     "output_type": "execute_result"
    }
   ],
   "source": [
    "def min_increment_for_unique(nums):\n",
    "    moves = 0\n",
    "    col = set()\n",
    "    for index, value in enumerate(nums):\n",
    "        while value in col:\n",
    "            value +=1\n",
    "            moves +=1\n",
    "        nums[index] = value\n",
    "        col.add(value)\n",
    "    return moves, nums\n",
    "min_increment_for_unique([3,2,1,2,1,7,4,5,7,8,9,4,222,3,46,67,8,98])        "
   ]
  },
  {
   "cell_type": "code",
   "execution_count": 115,
   "metadata": {},
   "outputs": [
    {
     "name": "stdout",
     "output_type": "stream",
     "text": [
      "{1: 1}\n"
     ]
    }
   ],
   "source": [
    "def check_height(nums):\n",
    "    moves = 0\n",
    "    changed_postion = {}\n",
    "    for index, value in enumerate(nums):\n",
    "        while index < len(nums):\n",
    "            \n",
    "\n",
    "print({1: 1})"
   ]
  },
  {
   "cell_type": "code",
   "execution_count": 149,
   "metadata": {},
   "outputs": [
    {
     "data": {
      "text/plain": [
       "(8, 'abcabcbb')"
      ]
     },
     "execution_count": 149,
     "metadata": {},
     "output_type": "execute_result"
    }
   ],
   "source": [
    "def longest_substring(message):\n",
    "    sub_list = \"\"\n",
    "    start = 0\n",
    "    end = 0\n",
    "    longest_string = 0\n",
    "    for index, char in enumerate(message):\n",
    "        if sub_list == \"\":\n",
    "            start = index\n",
    "            end = index\n",
    "            \n",
    "        if (sub_list + char) in message[start:]:\n",
    "            sub_list += char\n",
    "        elif sub_list != \"\":\n",
    "            longest_string = len(sub_list)\n",
    "    return len(sub_list), sub_list\n",
    "\n",
    "\n",
    "longest_substring('abcabcbb')\n"
   ]
  },
  {
   "cell_type": "code",
   "execution_count": 153,
   "metadata": {},
   "outputs": [
    {
     "data": {
      "text/plain": [
       "'as'"
      ]
     },
     "execution_count": 153,
     "metadata": {},
     "output_type": "execute_result"
    }
   ],
   "source": [
    "a = 'asadsdasd'\n",
    "# a[1:]\n",
    "a[:2]"
   ]
  },
  {
   "cell_type": "code",
   "execution_count": 227,
   "metadata": {},
   "outputs": [
    {
     "data": {
      "text/plain": [
       "(['c', 'o', 'o'], ['lock', 'k'])"
      ]
     },
     "execution_count": 227,
     "metadata": {},
     "output_type": "execute_result"
    }
   ],
   "source": [
    "def find_common_characters(string_list):\n",
    "    first_item = string_list.pop(0)\n",
    "    result_list = []\n",
    "    for char in first_item:\n",
    "        count = 0\n",
    "        for index in range(1, len(string_list)):\n",
    "            if not char in string_list[index]:\n",
    "                continue    \n",
    "            count += 1\n",
    "            temp = string_list[index].replace(char, \"\", 1)\n",
    "            string_list[index] = temp \n",
    "        \n",
    "        if count == len(string_list) - 1:\n",
    "            result_list.append(char)\n",
    "    \n",
    "    return result_list, string_list\n",
    "         \n",
    "        \n",
    "    \n",
    "find_common_characters([\"cool\",\"lock\",\"cook\"])"
   ]
  },
  {
   "cell_type": "code",
   "execution_count": 241,
   "metadata": {},
   "outputs": [
    {
     "data": {
      "text/plain": [
       "4"
      ]
     },
     "execution_count": 241,
     "metadata": {},
     "output_type": "execute_result"
    }
   ],
   "source": []
  },
  {
   "cell_type": "code",
   "execution_count": 259,
   "metadata": {},
   "outputs": [
    {
     "name": "stdout",
     "output_type": "stream",
     "text": [
      "30 --- > 20 50\n",
      "30 --- > 150 180\n",
      "30 --- > 100 130\n",
      "30 --- > 40 70\n",
      "20 --- > 150 170\n",
      "20 --- > 100 120\n",
      "20 --- > 40 60\n",
      "150 --- > 100 250\n",
      "150 --- > 40 190\n",
      "100 --- > 40 140\n"
     ]
    },
    {
     "data": {
      "text/plain": [
       "3"
      ]
     },
     "execution_count": 259,
     "metadata": {},
     "output_type": "execute_result"
    }
   ],
   "source": [
    "def total_duration_song(items):\n",
    "    count = 0\n",
    "    for head in range(len(items)):\n",
    "        for counter in range(head + 1, len(items)):\n",
    "            if (items[head] + items[counter]) % 60 == 0:\n",
    "                count += 1\n",
    "            print(f\"{items[head]} --- > {items[counter]} {items[head] + items[counter]}\")\n",
    "    return count\n",
    "\n",
    "total_duration_song([30,20,150,100,40])"
   ]
  },
  {
   "cell_type": "code",
   "execution_count": 258,
   "metadata": {},
   "outputs": [
    {
     "data": {
      "text/plain": [
       "True"
      ]
     },
     "execution_count": 258,
     "metadata": {},
     "output_type": "execute_result"
    }
   ],
   "source": [
    "180 % 60 == 0"
   ]
  },
  {
   "cell_type": "code",
   "execution_count": 286,
   "metadata": {},
   "outputs": [
    {
     "name": "stdout",
     "output_type": "stream",
     "text": [
      "0   2  [2, 1, -6, 6, -7, 9, 1, 2, 0, 1]\n",
      "[0, 2]   1  [1, -6, 6, -7, 9, 1, 2, 0, 1]\n",
      "[0, 2, 1]   -6  [-6, 6, -7, 9, 1, 2, 0, 1]\n",
      "[0, 2, 1, -6]   6  [6, -7, 9, 1, 2, 0, 1]\n",
      "[0, 2, 1, -6, 6]   -7  [-7, 9, 1, 2, 0, 1]\n",
      "[0, 2, 1, -6, 6, -7]   9  [9, 1, 2, 0, 1]\n",
      "[0, 2, 1, -6, 6, -7, 9]   1  [1, 2, 0, 1]\n",
      "[0, 2, 1, -6, 6, -7, 9, 1]   2  [2, 0, 1]\n",
      "[0, 2, 1, -6, 6, -7, 9, 1, 2]   0  [0, 1]\n",
      "[0, 2, 1, -6, 6, -7, 9, 1, 2, 0]   1  [1]\n"
     ]
    }
   ],
   "source": [
    "def three_equal_partation(items):\n",
    "    result = 0\n",
    "    for index, item in enumerate(items):\n",
    "        if index + 1 == len(items):\n",
    "            return \n",
    "        if index == 0:\n",
    "            print(f'{items[index]}   {items[index + 1]}  {items[index + 1:]}')\n",
    "        else:\n",
    "            print(f'{items[:index + 1]}   {items[index + 1]}  {items[index + 1:]}')\n",
    "\n",
    "#     found = 0\n",
    "#     for index, item in enumerate(items):\n",
    "#         if index + 1 == len(items):\n",
    "#             return found\n",
    "#         if index == 0 and items[index] == items[index + 1] == sum(items[index + 1:]) :\n",
    "#             found += 1\n",
    "#         elif sum(items[:index + 1]) == items[index + 1] == sum(items[index + 1:]):\n",
    "#             found += 1\n",
    "    \n",
    "#     return found \n",
    "\n",
    "            \n",
    "three_equal_partation([0,2,1,-6,6,-7,9,1,2,0,1])       "
   ]
  },
  {
   "cell_type": "code",
   "execution_count": null,
   "metadata": {},
   "outputs": [],
   "source": []
  },
  {
   "cell_type": "code",
   "execution_count": null,
   "metadata": {},
   "outputs": [],
   "source": []
  }
 ],
 "metadata": {
  "kernelspec": {
   "display_name": "Python 3",
   "language": "python",
   "name": "python3"
  },
  "language_info": {
   "codemirror_mode": {
    "name": "ipython",
    "version": 3
   },
   "file_extension": ".py",
   "mimetype": "text/x-python",
   "name": "python",
   "nbconvert_exporter": "python",
   "pygments_lexer": "ipython3",
   "version": "3.6.5"
  }
 },
 "nbformat": 4,
 "nbformat_minor": 4
}
